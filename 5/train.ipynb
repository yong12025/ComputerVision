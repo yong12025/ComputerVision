{
 "cells": [
  {
   "cell_type": "code",
   "execution_count": 60,
   "metadata": {
    "scrolled": false
   },
   "outputs": [],
   "source": [
    "import os\n",
    "from tensorflow.keras.preprocessing.image import ImageDataGenerator\n",
    "import numpy as np\n",
    "import pandas as pd\n",
    "from tensorflow.keras.applications import ResNet50\n",
    "from tensorflow.keras.models import Sequential\n",
    "from tensorflow.keras import layers"
   ]
  },
  {
   "cell_type": "code",
   "execution_count": 61,
   "metadata": {},
   "outputs": [],
   "source": [
    "# 위노그라드 알고리즘 설정\n",
    "os.environ['TF_ENABLE_WINOGRAD_NONFUSED'] = '1'"
   ]
  },
  {
   "cell_type": "markdown",
   "metadata": {},
   "source": [
    "# 데이터 로드"
   ]
  },
  {
   "cell_type": "code",
   "execution_count": 62,
   "metadata": {},
   "outputs": [],
   "source": [
    "rootPath = './vision/'"
   ]
  },
  {
   "cell_type": "code",
   "execution_count": 63,
   "metadata": {},
   "outputs": [],
   "source": [
    "def get_random_eraser(p=0.5, s_l=0.02, s_h=0.4, r_1=0.3, r_2=1/0.3, v_l=0, v_h=255, pixel_level=False):\n",
    "    def eraser(input_img):\n",
    "        img_h, img_w, img_c = input_img.shape\n",
    "        p_1 = np.random.rand()\n",
    "\n",
    "        if p_1 > p:\n",
    "            return input_img\n",
    "\n",
    "        while True:\n",
    "            s = np.random.uniform(s_l, s_h) * img_h * img_w\n",
    "            r = np.random.uniform(r_1, r_2)\n",
    "            w = int(np.sqrt(s / r))\n",
    "            h = int(np.sqrt(s * r))\n",
    "            left = np.random.randint(0, img_w)\n",
    "            top = np.random.randint(0, img_h)\n",
    "\n",
    "            if left + w <= img_w and top + h <= img_h:\n",
    "                break\n",
    "\n",
    "        if pixel_level:\n",
    "            c = np.random.uniform(v_l, v_h, (h, w, img_c))\n",
    "        else:\n",
    "            c = np.random.uniform(v_l, v_h)\n",
    "\n",
    "        input_img[top:top + h, left:left + w, :] = c\n",
    "\n",
    "        return input_img\n",
    "\n",
    "    return eraser"
   ]
  },
  {
   "cell_type": "code",
   "execution_count": 64,
   "metadata": {},
   "outputs": [],
   "source": [
    "#imageGenerator = ImageDataGenerator(\n",
    "#    rotation_range=20,\n",
    "#    horizontal_flip=True,\n",
    "#    preprocessing_function = get_random_eraser(v_l=0, v_h=255),\n",
    "#    validation_split=.1)\n",
    "    \n",
    "    \n"
   ]
  },
  {
   "cell_type": "code",
   "execution_count": 65,
   "metadata": {},
   "outputs": [],
   "source": [
    "imageGenerator = ImageDataGenerator(\n",
    "        rotation_range=20,\n",
    "        width_shift_range=0.2,\n",
    "        height_shift_range=0.2,\n",
    "        shear_range=0.2,\n",
    "        zoom_range=0.2,\n",
    "        validation_split=.1,\n",
    "        horizontal_flip=True,\n",
    "        fill_mode='nearest')\n"
   ]
  },
  {
   "cell_type": "code",
   "execution_count": 66,
   "metadata": {
    "scrolled": true
   },
   "outputs": [
    {
     "name": "stdout",
     "output_type": "stream",
     "text": [
      "Found 1157 images belonging to 3 classes.\n"
     ]
    }
   ],
   "source": [
    "trainGen = imageGenerator.flow_from_directory(\n",
    "    os.path.join(rootPath, 'training_set'),\n",
    "    target_size=(100, 100),\n",
    "    subset='training'\n",
    ")"
   ]
  },
  {
   "cell_type": "code",
   "execution_count": 67,
   "metadata": {},
   "outputs": [
    {
     "name": "stdout",
     "output_type": "stream",
     "text": [
      "Found 127 images belonging to 3 classes.\n"
     ]
    }
   ],
   "source": [
    "validationGen = imageGenerator.flow_from_directory(\n",
    "    os.path.join(rootPath, 'training_set'),\n",
    "    target_size=(100, 100),\n",
    "    subset='validation'\n",
    ")"
   ]
  },
  {
   "cell_type": "markdown",
   "metadata": {},
   "source": [
    "# 모델 구성"
   ]
  },
  {
   "cell_type": "code",
   "execution_count": 68,
   "metadata": {
    "scrolled": true
   },
   "outputs": [
    {
     "name": "stdout",
     "output_type": "stream",
     "text": [
      "Model: \"sequential_3\"\n",
      "_________________________________________________________________\n",
      "Layer (type)                 Output Shape              Param #   \n",
      "=================================================================\n",
      "resnet50 (Functional)        (None, 3)                 23593859  \n",
      "=================================================================\n",
      "Total params: 23,593,859\n",
      "Trainable params: 23,540,739\n",
      "Non-trainable params: 53,120\n",
      "_________________________________________________________________\n"
     ]
    }
   ],
   "source": [
    "model = Sequential()\n",
    "model.add(ResNet50(include_top=True, weights=None, input_shape=(100, 100, 3), classes=3))\n",
    "\n",
    "model.summary()"
   ]
  },
  {
   "cell_type": "code",
   "execution_count": 69,
   "metadata": {},
   "outputs": [],
   "source": [
    "model.compile(\n",
    "    optimizer='adam',\n",
    "    loss='binary_crossentropy', \n",
    "    metrics=['acc'],\n",
    ")"
   ]
  },
  {
   "cell_type": "code",
   "execution_count": 70,
   "metadata": {
    "scrolled": true
   },
   "outputs": [
    {
     "name": "stdout",
     "output_type": "stream",
     "text": [
      "Epoch 1/150\n",
      "8/7 [===============================] - ETA: 0s - loss: 1.1324 - acc: 0.5039WARNING:tensorflow:Your input ran out of data; interrupting training. Make sure that your dataset or generator can generate at least `steps_per_epoch * epochs` batches (in this case, 7.713333333333333 batches). You may need to use the repeat() function when building your dataset.\n",
      "7/7 [==============================] - 11s 566ms/step - loss: 1.1324 - acc: 0.5039 - val_loss: 480.4903 - val_acc: 0.6535\n",
      "Epoch 2/150\n",
      "7/7 [==============================] - 2s 236ms/step - loss: 0.3839 - acc: 0.7578\n",
      "Epoch 3/150\n",
      "7/7 [==============================] - 2s 216ms/step - loss: 0.2666 - acc: 0.8008\n",
      "Epoch 4/150\n",
      "7/7 [==============================] - 2s 242ms/step - loss: 0.2718 - acc: 0.8242\n",
      "Epoch 5/150\n",
      "7/7 [==============================] - 2s 249ms/step - loss: 0.2871 - acc: 0.7891\n",
      "Epoch 6/150\n",
      "7/7 [==============================] - 2s 209ms/step - loss: 0.2397 - acc: 0.8125\n",
      "Epoch 7/150\n",
      "7/7 [==============================] - 2s 210ms/step - loss: 0.1876 - acc: 0.8945\n",
      "Epoch 8/150\n",
      "7/7 [==============================] - 2s 231ms/step - loss: 0.1576 - acc: 0.9214\n",
      "Epoch 9/150\n",
      "7/7 [==============================] - 2s 217ms/step - loss: 0.2039 - acc: 0.8711\n",
      "Epoch 10/150\n",
      "7/7 [==============================] - 2s 235ms/step - loss: 0.1879 - acc: 0.8789\n",
      "Epoch 11/150\n",
      "7/7 [==============================] - 2s 224ms/step - loss: 0.2606 - acc: 0.8242\n",
      "Epoch 12/150\n",
      "7/7 [==============================] - 2s 226ms/step - loss: 0.1755 - acc: 0.8867\n",
      "Epoch 13/150\n",
      "7/7 [==============================] - 2s 236ms/step - loss: 0.1784 - acc: 0.8906\n",
      "Epoch 14/150\n",
      "7/7 [==============================] - 2s 218ms/step - loss: 0.2065 - acc: 0.8750\n",
      "Epoch 15/150\n",
      "7/7 [==============================] - 2s 233ms/step - loss: 0.1816 - acc: 0.8750\n",
      "Epoch 16/150\n",
      "7/7 [==============================] - 2s 224ms/step - loss: 0.1723 - acc: 0.8828\n",
      "Epoch 17/150\n",
      "7/7 [==============================] - 2s 221ms/step - loss: 0.1417 - acc: 0.9297\n",
      "Epoch 18/150\n",
      "7/7 [==============================] - 2s 223ms/step - loss: 0.1576 - acc: 0.9219\n",
      "Epoch 19/150\n",
      "7/7 [==============================] - 2s 221ms/step - loss: 0.1412 - acc: 0.9023\n",
      "Epoch 20/150\n",
      "7/7 [==============================] - 2s 216ms/step - loss: 0.1297 - acc: 0.9180\n",
      "Epoch 21/150\n",
      "7/7 [==============================] - 2s 202ms/step - loss: 0.2305 - acc: 0.8428\n",
      "Epoch 22/150\n",
      "7/7 [==============================] - 2s 216ms/step - loss: 0.2600 - acc: 0.8122\n",
      "Epoch 23/150\n",
      "7/7 [==============================] - 2s 218ms/step - loss: 0.2221 - acc: 0.8594\n",
      "Epoch 24/150\n",
      "7/7 [==============================] - 2s 214ms/step - loss: 0.1927 - acc: 0.8945\n",
      "Epoch 25/150\n",
      "7/7 [==============================] - 2s 198ms/step - loss: 0.2201 - acc: 0.8603\n",
      "Epoch 26/150\n",
      "7/7 [==============================] - 2s 221ms/step - loss: 0.1854 - acc: 0.8672\n",
      "Epoch 27/150\n",
      "7/7 [==============================] - 2s 224ms/step - loss: 0.1612 - acc: 0.9102\n",
      "Epoch 28/150\n",
      "7/7 [==============================] - 2s 208ms/step - loss: 0.2391 - acc: 0.8777\n",
      "Epoch 29/150\n",
      "7/7 [==============================] - 2s 189ms/step - loss: 0.2568 - acc: 0.8210\n",
      "Epoch 30/150\n",
      "7/7 [==============================] - 2s 211ms/step - loss: 0.2230 - acc: 0.8359\n",
      "Epoch 31/150\n",
      "7/7 [==============================] - 2s 220ms/step - loss: 0.1929 - acc: 0.8672\n",
      "Epoch 32/150\n",
      "7/7 [==============================] - 2s 235ms/step - loss: 0.1531 - acc: 0.9219\n",
      "Epoch 33/150\n",
      "7/7 [==============================] - 2s 215ms/step - loss: 0.2408 - acc: 0.8646\n",
      "Epoch 34/150\n",
      "7/7 [==============================] - 2s 214ms/step - loss: 0.1904 - acc: 0.8750\n",
      "Epoch 35/150\n",
      "7/7 [==============================] - 2s 219ms/step - loss: 0.1644 - acc: 0.8945\n",
      "Epoch 36/150\n",
      "7/7 [==============================] - 2s 212ms/step - loss: 0.2133 - acc: 0.8472\n",
      "Epoch 37/150\n",
      "7/7 [==============================] - 2s 215ms/step - loss: 0.1508 - acc: 0.9102\n",
      "Epoch 38/150\n",
      "7/7 [==============================] - 2s 224ms/step - loss: 0.1419 - acc: 0.9180\n",
      "Epoch 39/150\n",
      "7/7 [==============================] - 2s 208ms/step - loss: 0.1373 - acc: 0.9039\n",
      "Epoch 40/150\n",
      "7/7 [==============================] - 2s 229ms/step - loss: 0.1489 - acc: 0.8945\n",
      "Epoch 41/150\n",
      "7/7 [==============================] - 2s 220ms/step - loss: 0.1457 - acc: 0.8984\n",
      "Epoch 42/150\n",
      "7/7 [==============================] - 2s 245ms/step - loss: 0.1416 - acc: 0.9023\n",
      "Epoch 43/150\n",
      "7/7 [==============================] - 2s 230ms/step - loss: 0.1169 - acc: 0.9258\n",
      "Epoch 44/150\n",
      "7/7 [==============================] - 2s 218ms/step - loss: 0.3120 - acc: 0.8734\n",
      "Epoch 45/150\n",
      "7/7 [==============================] - 2s 202ms/step - loss: 0.2592 - acc: 0.8750\n",
      "Epoch 46/150\n",
      "7/7 [==============================] - 2s 208ms/step - loss: 0.1606 - acc: 0.9102\n",
      "Epoch 47/150\n",
      "7/7 [==============================] - 2s 210ms/step - loss: 0.1575 - acc: 0.9345\n",
      "Epoch 48/150\n",
      "7/7 [==============================] - 2s 210ms/step - loss: 0.1663 - acc: 0.8996\n",
      "Epoch 49/150\n",
      "7/7 [==============================] - 2s 205ms/step - loss: 0.1483 - acc: 0.9127\n",
      "Epoch 50/150\n",
      "7/7 [==============================] - 2s 209ms/step - loss: 0.1426 - acc: 0.9127\n",
      "Epoch 51/150\n",
      "7/7 [==============================] - 2s 220ms/step - loss: 0.1085 - acc: 0.9414\n",
      "Epoch 52/150\n",
      "7/7 [==============================] - 2s 217ms/step - loss: 0.1127 - acc: 0.9453\n",
      "Epoch 53/150\n",
      "7/7 [==============================] - 2s 218ms/step - loss: 0.1164 - acc: 0.9258\n",
      "Epoch 54/150\n",
      "7/7 [==============================] - 2s 227ms/step - loss: 0.1304 - acc: 0.9414\n",
      "Epoch 55/150\n",
      "7/7 [==============================] - 2s 203ms/step - loss: 0.1147 - acc: 0.9389\n",
      "Epoch 56/150\n",
      "7/7 [==============================] - 2s 203ms/step - loss: 0.1018 - acc: 0.9258\n",
      "Epoch 57/150\n",
      "7/7 [==============================] - 2s 220ms/step - loss: 0.0839 - acc: 0.9492\n",
      "Epoch 58/150\n",
      "7/7 [==============================] - 2s 217ms/step - loss: 0.0998 - acc: 0.9414\n",
      "Epoch 59/150\n",
      "7/7 [==============================] - 2s 217ms/step - loss: 0.0972 - acc: 0.9476\n",
      "Epoch 60/150\n",
      "7/7 [==============================] - 2s 232ms/step - loss: 0.0967 - acc: 0.9453\n",
      "Epoch 61/150\n",
      "7/7 [==============================] - 2s 219ms/step - loss: 0.1548 - acc: 0.9102\n",
      "Epoch 62/150\n",
      "7/7 [==============================] - 2s 212ms/step - loss: 0.1395 - acc: 0.9062\n",
      "Epoch 63/150\n",
      "7/7 [==============================] - 2s 231ms/step - loss: 0.1462 - acc: 0.8984\n",
      "Epoch 64/150\n",
      "7/7 [==============================] - 2s 205ms/step - loss: 0.1765 - acc: 0.9127\n",
      "Epoch 65/150\n",
      "7/7 [==============================] - 2s 227ms/step - loss: 0.1487 - acc: 0.9141\n",
      "Epoch 66/150\n",
      "7/7 [==============================] - 2s 208ms/step - loss: 0.1249 - acc: 0.9301\n",
      "Epoch 67/150\n",
      "7/7 [==============================] - 2s 222ms/step - loss: 0.1049 - acc: 0.9258\n",
      "Epoch 68/150\n",
      "7/7 [==============================] - 2s 225ms/step - loss: 0.0692 - acc: 0.9609\n",
      "Epoch 69/150\n",
      "7/7 [==============================] - 2s 240ms/step - loss: 0.1179 - acc: 0.9389\n",
      "Epoch 70/150\n",
      "7/7 [==============================] - 2s 223ms/step - loss: 0.1859 - acc: 0.9102\n",
      "Epoch 71/150\n",
      "7/7 [==============================] - 2s 218ms/step - loss: 0.1012 - acc: 0.9336\n",
      "Epoch 72/150\n",
      "7/7 [==============================] - 2s 247ms/step - loss: 0.0800 - acc: 0.9531\n",
      "Epoch 73/150\n",
      "7/7 [==============================] - 2s 216ms/step - loss: 0.1422 - acc: 0.9258\n",
      "Epoch 74/150\n",
      "7/7 [==============================] - 2s 230ms/step - loss: 0.1383 - acc: 0.8984\n",
      "Epoch 75/150\n",
      "7/7 [==============================] - 2s 230ms/step - loss: 0.0982 - acc: 0.9492\n",
      "Epoch 76/150\n",
      "7/7 [==============================] - 2s 218ms/step - loss: 0.1350 - acc: 0.9219\n",
      "Epoch 77/150\n",
      "7/7 [==============================] - 2s 202ms/step - loss: 0.0652 - acc: 0.9648\n",
      "Epoch 78/150\n",
      "7/7 [==============================] - 2s 217ms/step - loss: 0.1361 - acc: 0.9375\n",
      "Epoch 79/150\n",
      "7/7 [==============================] - 2s 217ms/step - loss: 0.1204 - acc: 0.9414\n",
      "Epoch 80/150\n",
      "7/7 [==============================] - 2s 207ms/step - loss: 0.1481 - acc: 0.9141\n",
      "Epoch 81/150\n",
      "7/7 [==============================] - 2s 205ms/step - loss: 0.0997 - acc: 0.9414\n",
      "Epoch 82/150\n",
      "7/7 [==============================] - 2s 189ms/step - loss: 0.0747 - acc: 0.9607\n",
      "Epoch 83/150\n",
      "7/7 [==============================] - 2s 200ms/step - loss: 0.1082 - acc: 0.9375\n",
      "Epoch 84/150\n",
      "7/7 [==============================] - 2s 223ms/step - loss: 0.0719 - acc: 0.9570\n",
      "Epoch 85/150\n",
      "7/7 [==============================] - 2s 225ms/step - loss: 0.1263 - acc: 0.9180\n",
      "Epoch 86/150\n",
      "7/7 [==============================] - 2s 228ms/step - loss: 0.2033 - acc: 0.9414\n",
      "Epoch 87/150\n",
      "7/7 [==============================] - 2s 218ms/step - loss: 0.4970 - acc: 0.8125\n",
      "Epoch 88/150\n",
      "7/7 [==============================] - 2s 233ms/step - loss: 0.1943 - acc: 0.8711\n",
      "Epoch 89/150\n",
      "7/7 [==============================] - 2s 219ms/step - loss: 0.1215 - acc: 0.9336\n",
      "Epoch 90/150\n",
      "7/7 [==============================] - 2s 225ms/step - loss: 0.2325 - acc: 0.8516\n",
      "Epoch 91/150\n",
      "7/7 [==============================] - 2s 221ms/step - loss: 0.1650 - acc: 0.9023\n",
      "Epoch 92/150\n",
      "7/7 [==============================] - 2s 209ms/step - loss: 0.1848 - acc: 0.8867\n",
      "Epoch 93/150\n",
      "7/7 [==============================] - 2s 222ms/step - loss: 0.1297 - acc: 0.9102\n",
      "Epoch 94/150\n",
      "7/7 [==============================] - 2s 235ms/step - loss: 0.1173 - acc: 0.9297\n",
      "Epoch 95/150\n",
      "7/7 [==============================] - 2s 220ms/step - loss: 0.1119 - acc: 0.9414\n",
      "Epoch 96/150\n",
      "7/7 [==============================] - 2s 214ms/step - loss: 0.1191 - acc: 0.9141 0s - loss: 0.1234 - acc: 0\n",
      "Epoch 97/150\n",
      "7/7 [==============================] - 2s 213ms/step - loss: 0.0966 - acc: 0.9389\n",
      "Epoch 98/150\n",
      "7/7 [==============================] - 2s 209ms/step - loss: 0.1044 - acc: 0.9432\n",
      "Epoch 99/150\n",
      "7/7 [==============================] - 2s 223ms/step - loss: 0.1269 - acc: 0.9297\n",
      "Epoch 100/150\n",
      "7/7 [==============================] - 2s 230ms/step - loss: 0.1294 - acc: 0.9258\n",
      "Epoch 101/150\n",
      "7/7 [==============================] - 2s 228ms/step - loss: 0.1224 - acc: 0.9414\n",
      "Epoch 102/150\n",
      "7/7 [==============================] - 2s 208ms/step - loss: 0.1079 - acc: 0.9336\n",
      "Epoch 103/150\n",
      "7/7 [==============================] - 2s 230ms/step - loss: 0.1016 - acc: 0.9531\n",
      "Epoch 104/150\n",
      "7/7 [==============================] - 2s 215ms/step - loss: 0.1129 - acc: 0.9297\n",
      "Epoch 105/150\n",
      "7/7 [==============================] - 2s 231ms/step - loss: 0.1102 - acc: 0.9258\n",
      "Epoch 106/150\n",
      "7/7 [==============================] - 2s 221ms/step - loss: 0.1098 - acc: 0.9301\n",
      "Epoch 107/150\n",
      "7/7 [==============================] - 2s 208ms/step - loss: 0.1473 - acc: 0.9258\n",
      "Epoch 108/150\n",
      "7/7 [==============================] - 2s 228ms/step - loss: 0.0857 - acc: 0.9531 0s - loss: 0.0651 - acc: \n",
      "Epoch 109/150\n",
      "7/7 [==============================] - 2s 205ms/step - loss: 0.1341 - acc: 0.9170\n",
      "Epoch 110/150\n",
      "7/7 [==============================] - 2s 214ms/step - loss: 0.1560 - acc: 0.9219\n",
      "Epoch 111/150\n",
      "7/7 [==============================] - 2s 222ms/step - loss: 0.1172 - acc: 0.9375\n",
      "Epoch 112/150\n",
      "7/7 [==============================] - 2s 214ms/step - loss: 0.1426 - acc: 0.9170\n",
      "Epoch 113/150\n",
      "7/7 [==============================] - 2s 208ms/step - loss: 0.0880 - acc: 0.9648\n",
      "Epoch 114/150\n",
      "7/7 [==============================] - 2s 218ms/step - loss: 0.0882 - acc: 0.9607\n",
      "Epoch 115/150\n",
      "7/7 [==============================] - 2s 229ms/step - loss: 0.1095 - acc: 0.9297\n",
      "Epoch 116/150\n",
      "7/7 [==============================] - 2s 231ms/step - loss: 0.0775 - acc: 0.9531\n",
      "Epoch 117/150\n",
      "7/7 [==============================] - 2s 216ms/step - loss: 0.0771 - acc: 0.9607\n",
      "Epoch 118/150\n",
      "7/7 [==============================] - 2s 202ms/step - loss: 0.0721 - acc: 0.9648\n",
      "Epoch 119/150\n",
      "7/7 [==============================] - 2s 224ms/step - loss: 0.1001 - acc: 0.9492\n",
      "Epoch 120/150\n",
      "7/7 [==============================] - 2s 211ms/step - loss: 0.1166 - acc: 0.9345\n",
      "Epoch 121/150\n",
      "7/7 [==============================] - 2s 229ms/step - loss: 0.1030 - acc: 0.9570\n",
      "Epoch 122/150\n",
      "7/7 [==============================] - 2s 214ms/step - loss: 0.1185 - acc: 0.9414\n",
      "Epoch 123/150\n",
      "7/7 [==============================] - 2s 244ms/step - loss: 0.0661 - acc: 0.9570\n",
      "Epoch 124/150\n",
      "7/7 [==============================] - 2s 220ms/step - loss: 0.0927 - acc: 0.9414\n",
      "Epoch 125/150\n",
      "7/7 [==============================] - 2s 222ms/step - loss: 0.1247 - acc: 0.9214\n",
      "Epoch 126/150\n",
      "7/7 [==============================] - 2s 233ms/step - loss: 0.1046 - acc: 0.9336\n",
      "Epoch 127/150\n",
      "7/7 [==============================] - 2s 213ms/step - loss: 0.1197 - acc: 0.9336\n",
      "Epoch 128/150\n",
      "7/7 [==============================] - 2s 236ms/step - loss: 0.1053 - acc: 0.9297\n",
      "Epoch 129/150\n",
      "7/7 [==============================] - 2s 215ms/step - loss: 0.0866 - acc: 0.9414\n",
      "Epoch 130/150\n",
      "7/7 [==============================] - 2s 211ms/step - loss: 0.0808 - acc: 0.9520\n",
      "Epoch 131/150\n",
      "7/7 [==============================] - 2s 201ms/step - loss: 0.1062 - acc: 0.9476\n",
      "Epoch 132/150\n",
      "7/7 [==============================] - 2s 229ms/step - loss: 0.1917 - acc: 0.8828\n",
      "Epoch 133/150\n",
      "7/7 [==============================] - 2s 231ms/step - loss: 0.1222 - acc: 0.9297\n",
      "Epoch 134/150\n",
      "7/7 [==============================] - 2s 214ms/step - loss: 0.1348 - acc: 0.9389\n",
      "Epoch 135/150\n",
      "7/7 [==============================] - 2s 212ms/step - loss: 0.1275 - acc: 0.9336\n",
      "Epoch 136/150\n",
      "7/7 [==============================] - 2s 212ms/step - loss: 0.1359 - acc: 0.9180\n",
      "Epoch 137/150\n",
      "7/7 [==============================] - 2s 212ms/step - loss: 0.0979 - acc: 0.9258\n",
      "Epoch 138/150\n",
      "7/7 [==============================] - 2s 214ms/step - loss: 0.0801 - acc: 0.9609\n",
      "Epoch 139/150\n",
      "7/7 [==============================] - 2s 219ms/step - loss: 0.0812 - acc: 0.9414\n",
      "Epoch 140/150\n",
      "7/7 [==============================] - 2s 217ms/step - loss: 0.1416 - acc: 0.9219\n",
      "Epoch 141/150\n",
      "7/7 [==============================] - 2s 224ms/step - loss: 0.1375 - acc: 0.9336\n",
      "Epoch 142/150\n",
      "7/7 [==============================] - 2s 227ms/step - loss: 0.0899 - acc: 0.9570\n",
      "Epoch 143/150\n",
      "7/7 [==============================] - 2s 215ms/step - loss: 0.0941 - acc: 0.9531\n",
      "Epoch 144/150\n",
      "7/7 [==============================] - 2s 216ms/step - loss: 0.0605 - acc: 0.9766\n",
      "Epoch 145/150\n",
      "7/7 [==============================] - 2s 225ms/step - loss: 0.1227 - acc: 0.9219\n",
      "Epoch 146/150\n",
      "7/7 [==============================] - 2s 225ms/step - loss: 0.0662 - acc: 0.9688\n",
      "Epoch 147/150\n",
      "7/7 [==============================] - 2s 218ms/step - loss: 0.1307 - acc: 0.9336\n",
      "Epoch 148/150\n",
      "7/7 [==============================] - 2s 229ms/step - loss: 0.1324 - acc: 0.9102\n",
      "Epoch 149/150\n",
      "7/7 [==============================] - 2s 220ms/step - loss: 0.0778 - acc: 0.9570\n",
      "Epoch 150/150\n",
      "7/7 [==============================] - 2s 211ms/step - loss: 0.0799 - acc: 0.9607\n"
     ]
    }
   ],
   "source": [
    "epochs = 150\n",
    "history = model.fit_generator(\n",
    "    trainGen, \n",
    "    epochs=epochs,\n",
    "    steps_per_epoch=trainGen.samples / epochs, \n",
    "    validation_data=validationGen,\n",
    "    validation_steps=trainGen.samples / epochs,\n",
    ")"
   ]
  },
  {
   "cell_type": "markdown",
   "metadata": {},
   "source": [
    "# 평가"
   ]
  },
  {
   "cell_type": "code",
   "execution_count": 71,
   "metadata": {},
   "outputs": [
    {
     "name": "stdout",
     "output_type": "stream",
     "text": [
      "Found 15 images belonging to 3 classes.\n"
     ]
    }
   ],
   "source": [
    "testGen = imageGenerator.flow_from_directory(\n",
    "    os.path.join(rootPath, 'test_set'),\n",
    "    target_size=(100, 100),\n",
    ")"
   ]
  },
  {
   "cell_type": "code",
   "execution_count": 72,
   "metadata": {
    "scrolled": true
   },
   "outputs": [],
   "source": [
    "pred = model.predict(testGen)"
   ]
  },
  {
   "cell_type": "code",
   "execution_count": 73,
   "metadata": {},
   "outputs": [],
   "source": [
    "img_list = testGen.filenames"
   ]
  },
  {
   "cell_type": "code",
   "execution_count": 74,
   "metadata": {},
   "outputs": [],
   "source": [
    "pred_list = []\n",
    "for i in range(len(pred)):\n",
    "    pred_list.append(np.argmax(pred[i]))"
   ]
  },
  {
   "cell_type": "code",
   "execution_count": 75,
   "metadata": {},
   "outputs": [],
   "source": [
    "df = pd.DataFrame(list(zip(img_list, pred_list)), columns =['Name', 'pred'])"
   ]
  },
  {
   "cell_type": "code",
   "execution_count": 76,
   "metadata": {},
   "outputs": [],
   "source": [
    "df.to_csv('submission.csv', index=False)"
   ]
  },
  {
   "cell_type": "code",
   "execution_count": null,
   "metadata": {},
   "outputs": [],
   "source": []
  }
 ],
 "metadata": {
  "interpreter": {
   "hash": "852db99f5d2be61b0da27ec56bfa34b4e0fbcec21ce7958dd97e932734b3dcc5"
  },
  "kernelspec": {
   "display_name": "jimin",
   "language": "python",
   "name": "python3"
  },
  "language_info": {
   "codemirror_mode": {
    "name": "ipython",
    "version": 3
   },
   "file_extension": ".py",
   "mimetype": "text/x-python",
   "name": "python",
   "nbconvert_exporter": "python",
   "pygments_lexer": "ipython3",
   "version": "3.6.9"
  }
 },
 "nbformat": 4,
 "nbformat_minor": 4
}
