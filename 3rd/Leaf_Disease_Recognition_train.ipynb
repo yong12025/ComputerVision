{
 "cells": [
  {
   "cell_type": "code",
   "execution_count": 93,
   "metadata": {},
   "outputs": [
    {
     "data": {
      "text/plain": [
       "'2.4.0'"
      ]
     },
     "execution_count": 93,
     "metadata": {},
     "output_type": "execute_result"
    }
   ],
   "source": [
    "import matplotlib.pyplot as plt\n",
    "import numpy as np\n",
    "import os\n",
    "import PIL\n",
    "import tensorflow as tf\n",
    "import pathlib\n",
    "from tensorflow import keras\n",
    "from tensorflow.keras import layers\n",
    "from tensorflow.keras.models import Sequential\n",
    "import numpy as np\n",
    "import pandas as pd\n",
    "from tensorflow.keras.preprocessing.image import ImageDataGenerator\n",
    "\n",
    "\n",
    "tf.__version__"
   ]
  },
  {
   "cell_type": "code",
   "execution_count": 94,
   "metadata": {},
   "outputs": [
    {
     "name": "stdout",
     "output_type": "stream",
     "text": [
      "vision\\training_set\n"
     ]
    }
   ],
   "source": [
    "batch_size = 32\n",
    "img_height = 180\n",
    "img_width = 180 \n",
    "data_dir = pathlib.Path('vision/training_set') \n",
    "datatest_dir = pathlib.Path('vision/test_set')\n",
    "print(data_dir)\n",
    "AUTOTUNE = tf.data.AUTOTUNE"
   ]
  },
  {
   "cell_type": "code",
   "execution_count": 95,
   "metadata": {},
   "outputs": [
    {
     "name": "stdout",
     "output_type": "stream",
     "text": [
      "Found 1284 files belonging to 3 classes.\n",
      "Using 771 files for training.\n"
     ]
    }
   ],
   "source": [
    "train_ds = tf.keras.preprocessing.image_dataset_from_directory(\n",
    "  data_dir,\n",
    "  validation_split=0.4,\n",
    "  subset=\"training\",\n",
    "  seed=123,\n",
    "  image_size=(img_height, img_width),\n",
    "  batch_size=batch_size)"
   ]
  },
  {
   "cell_type": "code",
   "execution_count": 96,
   "metadata": {},
   "outputs": [
    {
     "name": "stdout",
     "output_type": "stream",
     "text": [
      "Found 1284 files belonging to 3 classes.\n",
      "Using 513 files for validation.\n"
     ]
    }
   ],
   "source": [
    "val_ds = tf.keras.preprocessing.image_dataset_from_directory(\n",
    "  data_dir,\n",
    "  validation_split=0.4,\n",
    "  subset=\"validation\",\n",
    "  seed=123,\n",
    "  image_size=(img_height, img_width),\n",
    "  batch_size=batch_size)"
   ]
  },
  {
   "cell_type": "code",
   "execution_count": null,
   "metadata": {},
   "outputs": [],
   "source": []
  },
  {
   "cell_type": "code",
   "execution_count": null,
   "metadata": {},
   "outputs": [],
   "source": []
  },
  {
   "cell_type": "code",
   "execution_count": null,
   "metadata": {},
   "outputs": [],
   "source": []
  },
  {
   "cell_type": "code",
   "execution_count": 97,
   "metadata": {},
   "outputs": [],
   "source": [
    "val_ds = val_ds.cache().prefetch(buffer_size=AUTOTUNE)"
   ]
  },
  {
   "cell_type": "code",
   "execution_count": 98,
   "metadata": {},
   "outputs": [],
   "source": [
    "num_classes = 3\n",
    "\n",
    "model = Sequential([\n",
    "  layers.experimental.preprocessing.Rescaling(1./255, input_shape=(img_height, img_width, 3)),\n",
    "  layers.Conv2D(16, 3, padding='same', activation='relu'),\n",
    "  layers.MaxPooling2D(),\n",
    "  layers.Conv2D(32, 3, padding='same', activation='relu'),\n",
    "  layers.MaxPooling2D(),\n",
    "  layers.Conv2D(64, 3, padding='same', activation='relu'),\n",
    "  layers.MaxPooling2D(),\n",
    "  layers.Flatten(),\n",
    "  layers.Dense(128, activation='relu'),\n",
    "  layers.Dense(num_classes)\n",
    "])\n"
   ]
  },
  {
   "cell_type": "code",
   "execution_count": 108,
   "metadata": {},
   "outputs": [
    {
     "name": "stdout",
     "output_type": "stream",
     "text": [
      "Model: \"sequential_6\"\n",
      "_________________________________________________________________\n",
      "Layer (type)                 Output Shape              Param #   \n",
      "=================================================================\n",
      "rescaling_6 (Rescaling)      (None, 180, 180, 3)       0         \n",
      "_________________________________________________________________\n",
      "conv2d_18 (Conv2D)           (None, 180, 180, 16)      448       \n",
      "_________________________________________________________________\n",
      "max_pooling2d_18 (MaxPooling (None, 90, 90, 16)        0         \n",
      "_________________________________________________________________\n",
      "conv2d_19 (Conv2D)           (None, 90, 90, 32)        4640      \n",
      "_________________________________________________________________\n",
      "max_pooling2d_19 (MaxPooling (None, 45, 45, 32)        0         \n",
      "_________________________________________________________________\n",
      "conv2d_20 (Conv2D)           (None, 45, 45, 64)        18496     \n",
      "_________________________________________________________________\n",
      "max_pooling2d_20 (MaxPooling (None, 22, 22, 64)        0         \n",
      "_________________________________________________________________\n",
      "flatten_6 (Flatten)          (None, 30976)             0         \n",
      "_________________________________________________________________\n",
      "dense_12 (Dense)             (None, 128)               3965056   \n",
      "_________________________________________________________________\n",
      "dense_13 (Dense)             (None, 3)                 387       \n",
      "=================================================================\n",
      "Total params: 3,989,027\n",
      "Trainable params: 3,989,027\n",
      "Non-trainable params: 0\n",
      "_________________________________________________________________\n"
     ]
    }
   ],
   "source": [
    "\n",
    "model.summary()"
   ]
  },
  {
   "cell_type": "code",
   "execution_count": 99,
   "metadata": {},
   "outputs": [
    {
     "name": "stdout",
     "output_type": "stream",
     "text": [
      "['burn_disease', 'healthy', 'leafspot']\n"
     ]
    }
   ],
   "source": [
    "class_names = train_ds.class_names\n",
    "print(class_names)"
   ]
  },
  {
   "cell_type": "code",
   "execution_count": 100,
   "metadata": {},
   "outputs": [
    {
     "name": "stdout",
     "output_type": "stream",
     "text": [
      "(32, 180, 180, 3)\n",
      "(32,)\n"
     ]
    }
   ],
   "source": [
    "for image_batch, labels_batch in train_ds:\n",
    "    print(image_batch.shape)\n",
    "    print(labels_batch.shape)\n",
    "    break"
   ]
  },
  {
   "cell_type": "code",
   "execution_count": 101,
   "metadata": {},
   "outputs": [],
   "source": [
    "model.compile(\n",
    "  optimizer='adam',\n",
    "  loss=tf.losses.SparseCategoricalCrossentropy(from_logits=True),\n",
    "  metrics=['accuracy'])"
   ]
  },
  {
   "cell_type": "code",
   "execution_count": 102,
   "metadata": {},
   "outputs": [
    {
     "name": "stdout",
     "output_type": "stream",
     "text": [
      "Epoch 1/50\n",
      "WARNING:tensorflow:AutoGraph could not transform <function Model.make_train_function.<locals>.train_function at 0x00000265E84DAE18> and will run it as-is.\n",
      "Please report this to the TensorFlow team. When filing the bug, set the verbosity to 10 (on Linux, `export AUTOGRAPH_VERBOSITY=10`) and attach the full output.\n",
      "Cause: 'arguments' object has no attribute 'posonlyargs'\n",
      "To silence this warning, decorate the function with @tf.autograph.experimental.do_not_convert\n",
      "WARNING: AutoGraph could not transform <function Model.make_train_function.<locals>.train_function at 0x00000265E84DAE18> and will run it as-is.\n",
      "Please report this to the TensorFlow team. When filing the bug, set the verbosity to 10 (on Linux, `export AUTOGRAPH_VERBOSITY=10`) and attach the full output.\n",
      "Cause: 'arguments' object has no attribute 'posonlyargs'\n",
      "To silence this warning, decorate the function with @tf.autograph.experimental.do_not_convert\n",
      "24/25 [===========================>..] - ETA: 0s - loss: 1.1315 - accuracy: 0.5679WARNING:tensorflow:AutoGraph could not transform <function Model.make_test_function.<locals>.test_function at 0x00000267B6C4A0D0> and will run it as-is.\n",
      "Please report this to the TensorFlow team. When filing the bug, set the verbosity to 10 (on Linux, `export AUTOGRAPH_VERBOSITY=10`) and attach the full output.\n",
      "Cause: 'arguments' object has no attribute 'posonlyargs'\n",
      "To silence this warning, decorate the function with @tf.autograph.experimental.do_not_convert\n",
      "WARNING: AutoGraph could not transform <function Model.make_test_function.<locals>.test_function at 0x00000267B6C4A0D0> and will run it as-is.\n",
      "Please report this to the TensorFlow team. When filing the bug, set the verbosity to 10 (on Linux, `export AUTOGRAPH_VERBOSITY=10`) and attach the full output.\n",
      "Cause: 'arguments' object has no attribute 'posonlyargs'\n",
      "To silence this warning, decorate the function with @tf.autograph.experimental.do_not_convert\n",
      "25/25 [==============================] - 5s 165ms/step - loss: 1.1052 - accuracy: 0.5761 - val_loss: 0.3533 - val_accuracy: 0.8343\n",
      "Epoch 2/50\n",
      "25/25 [==============================] - 3s 95ms/step - loss: 0.4024 - accuracy: 0.8110 - val_loss: 0.2805 - val_accuracy: 0.8655\n",
      "Epoch 3/50\n",
      "25/25 [==============================] - 3s 98ms/step - loss: 0.3015 - accuracy: 0.8743 - val_loss: 0.2680 - val_accuracy: 0.8889\n",
      "Epoch 4/50\n",
      "25/25 [==============================] - 3s 95ms/step - loss: 0.2183 - accuracy: 0.9153 - val_loss: 0.1880 - val_accuracy: 0.9279\n",
      "Epoch 5/50\n",
      "25/25 [==============================] - 3s 99ms/step - loss: 0.1591 - accuracy: 0.9532 - val_loss: 0.1730 - val_accuracy: 0.9337\n",
      "Epoch 6/50\n",
      "25/25 [==============================] - 3s 94ms/step - loss: 0.0969 - accuracy: 0.9669 - val_loss: 0.1549 - val_accuracy: 0.9532\n",
      "Epoch 7/50\n",
      "25/25 [==============================] - 3s 94ms/step - loss: 0.0900 - accuracy: 0.9686 - val_loss: 0.1665 - val_accuracy: 0.9357\n",
      "Epoch 8/50\n",
      "25/25 [==============================] - 3s 95ms/step - loss: 0.0446 - accuracy: 0.9895 - val_loss: 0.1254 - val_accuracy: 0.9513\n",
      "Epoch 9/50\n",
      "25/25 [==============================] - 3s 99ms/step - loss: 0.0367 - accuracy: 0.9892 - val_loss: 0.1980 - val_accuracy: 0.9298\n",
      "Epoch 10/50\n",
      "25/25 [==============================] - 3s 94ms/step - loss: 0.0314 - accuracy: 0.9952 - val_loss: 0.1379 - val_accuracy: 0.9435\n",
      "Epoch 11/50\n",
      "25/25 [==============================] - 3s 99ms/step - loss: 0.0279 - accuracy: 0.9944 - val_loss: 0.3487 - val_accuracy: 0.8986\n",
      "Epoch 12/50\n",
      "25/25 [==============================] - 3s 95ms/step - loss: 0.0404 - accuracy: 0.9859 - val_loss: 0.1544 - val_accuracy: 0.9435\n",
      "Epoch 13/50\n",
      "25/25 [==============================] - 3s 93ms/step - loss: 0.0157 - accuracy: 0.9952 - val_loss: 0.2401 - val_accuracy: 0.9298\n",
      "Epoch 14/50\n",
      "25/25 [==============================] - 3s 95ms/step - loss: 0.0546 - accuracy: 0.9918 - val_loss: 0.2475 - val_accuracy: 0.9337\n",
      "Epoch 15/50\n",
      "25/25 [==============================] - 3s 93ms/step - loss: 0.0097 - accuracy: 1.0000 - val_loss: 0.1872 - val_accuracy: 0.9376\n",
      "Epoch 16/50\n",
      "25/25 [==============================] - 3s 92ms/step - loss: 0.0166 - accuracy: 0.9938 - val_loss: 0.2801 - val_accuracy: 0.9103\n",
      "Epoch 17/50\n",
      "25/25 [==============================] - 3s 94ms/step - loss: 0.0342 - accuracy: 0.9857 - val_loss: 0.2294 - val_accuracy: 0.9337\n",
      "Epoch 18/50\n",
      "25/25 [==============================] - 3s 95ms/step - loss: 0.1105 - accuracy: 0.9664 - val_loss: 0.2528 - val_accuracy: 0.9006\n",
      "Epoch 19/50\n",
      "25/25 [==============================] - 3s 95ms/step - loss: 0.0359 - accuracy: 0.9907 - val_loss: 0.1989 - val_accuracy: 0.9279\n",
      "Epoch 20/50\n",
      "25/25 [==============================] - 3s 95ms/step - loss: 0.0099 - accuracy: 1.0000 - val_loss: 0.2290 - val_accuracy: 0.9357\n",
      "Epoch 21/50\n",
      "25/25 [==============================] - 3s 94ms/step - loss: 0.0018 - accuracy: 1.0000 - val_loss: 0.2149 - val_accuracy: 0.9493\n",
      "Epoch 22/50\n",
      "25/25 [==============================] - 3s 96ms/step - loss: 9.0676e-04 - accuracy: 1.0000 - val_loss: 0.2170 - val_accuracy: 0.9415\n",
      "Epoch 23/50\n",
      "25/25 [==============================] - 3s 94ms/step - loss: 6.3956e-04 - accuracy: 1.0000 - val_loss: 0.2096 - val_accuracy: 0.9493\n",
      "Epoch 24/50\n",
      "25/25 [==============================] - 3s 96ms/step - loss: 5.5944e-04 - accuracy: 1.0000 - val_loss: 0.2129 - val_accuracy: 0.9532\n",
      "Epoch 25/50\n",
      "25/25 [==============================] - 3s 96ms/step - loss: 3.4723e-04 - accuracy: 1.0000 - val_loss: 0.2150 - val_accuracy: 0.9532\n",
      "Epoch 26/50\n",
      "25/25 [==============================] - 3s 95ms/step - loss: 2.5592e-04 - accuracy: 1.0000 - val_loss: 0.2164 - val_accuracy: 0.9532\n",
      "Epoch 27/50\n",
      "25/25 [==============================] - 3s 94ms/step - loss: 2.9762e-04 - accuracy: 1.0000 - val_loss: 0.2191 - val_accuracy: 0.9532\n",
      "Epoch 28/50\n",
      "25/25 [==============================] - 3s 96ms/step - loss: 2.4427e-04 - accuracy: 1.0000 - val_loss: 0.2200 - val_accuracy: 0.9532\n",
      "Epoch 29/50\n",
      "25/25 [==============================] - 3s 98ms/step - loss: 2.1113e-04 - accuracy: 1.0000 - val_loss: 0.2226 - val_accuracy: 0.9532\n",
      "Epoch 30/50\n",
      "25/25 [==============================] - 3s 101ms/step - loss: 1.6358e-04 - accuracy: 1.0000 - val_loss: 0.2243 - val_accuracy: 0.9513\n",
      "Epoch 31/50\n",
      "25/25 [==============================] - 3s 98ms/step - loss: 1.7982e-04 - accuracy: 1.0000 - val_loss: 0.2253 - val_accuracy: 0.9513\n",
      "Epoch 32/50\n",
      "25/25 [==============================] - 3s 101ms/step - loss: 1.4800e-04 - accuracy: 1.0000 - val_loss: 0.2276 - val_accuracy: 0.9493\n",
      "Epoch 33/50\n",
      "25/25 [==============================] - 3s 96ms/step - loss: 1.0689e-04 - accuracy: 1.0000 - val_loss: 0.2278 - val_accuracy: 0.9513\n",
      "Epoch 34/50\n",
      "25/25 [==============================] - 3s 96ms/step - loss: 1.1279e-04 - accuracy: 1.0000 - val_loss: 0.2307 - val_accuracy: 0.9493\n",
      "Epoch 35/50\n",
      "25/25 [==============================] - 3s 97ms/step - loss: 9.2360e-05 - accuracy: 1.0000 - val_loss: 0.2320 - val_accuracy: 0.9493\n",
      "Epoch 36/50\n",
      "25/25 [==============================] - 3s 96ms/step - loss: 8.3398e-05 - accuracy: 1.0000 - val_loss: 0.2321 - val_accuracy: 0.9513\n",
      "Epoch 37/50\n",
      "25/25 [==============================] - 3s 96ms/step - loss: 1.3359e-04 - accuracy: 1.0000 - val_loss: 0.2367 - val_accuracy: 0.9493\n",
      "Epoch 38/50\n",
      "25/25 [==============================] - 3s 98ms/step - loss: 1.0962e-04 - accuracy: 1.0000 - val_loss: 0.2337 - val_accuracy: 0.9513\n",
      "Epoch 39/50\n",
      "25/25 [==============================] - 3s 98ms/step - loss: 9.0622e-05 - accuracy: 1.0000 - val_loss: 0.2345 - val_accuracy: 0.9513\n",
      "Epoch 40/50\n",
      "25/25 [==============================] - 3s 97ms/step - loss: 6.8312e-05 - accuracy: 1.0000 - val_loss: 0.2365 - val_accuracy: 0.9513\n",
      "Epoch 41/50\n",
      "25/25 [==============================] - 3s 97ms/step - loss: 5.7574e-05 - accuracy: 1.0000 - val_loss: 0.2386 - val_accuracy: 0.9493\n",
      "Epoch 42/50\n",
      "25/25 [==============================] - 3s 98ms/step - loss: 5.3598e-05 - accuracy: 1.0000 - val_loss: 0.2409 - val_accuracy: 0.9493\n",
      "Epoch 43/50\n",
      "25/25 [==============================] - 3s 96ms/step - loss: 5.6722e-05 - accuracy: 1.0000 - val_loss: 0.2417 - val_accuracy: 0.9493\n",
      "Epoch 44/50\n",
      "25/25 [==============================] - 3s 96ms/step - loss: 4.5352e-05 - accuracy: 1.0000 - val_loss: 0.2426 - val_accuracy: 0.9493\n",
      "Epoch 45/50\n",
      "25/25 [==============================] - 3s 98ms/step - loss: 5.1156e-05 - accuracy: 1.0000 - val_loss: 0.2450 - val_accuracy: 0.9493\n",
      "Epoch 46/50\n",
      "25/25 [==============================] - 3s 98ms/step - loss: 4.6730e-05 - accuracy: 1.0000 - val_loss: 0.2465 - val_accuracy: 0.9493\n",
      "Epoch 47/50\n",
      "25/25 [==============================] - 3s 97ms/step - loss: 4.2635e-05 - accuracy: 1.0000 - val_loss: 0.2491 - val_accuracy: 0.9493\n",
      "Epoch 48/50\n",
      "25/25 [==============================] - 3s 99ms/step - loss: 3.4464e-05 - accuracy: 1.0000 - val_loss: 0.2503 - val_accuracy: 0.9493\n",
      "Epoch 49/50\n",
      "25/25 [==============================] - 3s 98ms/step - loss: 3.7567e-05 - accuracy: 1.0000 - val_loss: 0.2514 - val_accuracy: 0.9493\n",
      "Epoch 50/50\n",
      "25/25 [==============================] - 3s 99ms/step - loss: 3.5269e-05 - accuracy: 1.0000 - val_loss: 0.2519 - val_accuracy: 0.9493\n"
     ]
    },
    {
     "data": {
      "text/plain": [
       "<tensorflow.python.keras.callbacks.History at 0x2678bb37b38>"
      ]
     },
     "execution_count": 102,
     "metadata": {},
     "output_type": "execute_result"
    }
   ],
   "source": [
    "model.fit(train_ds, validation_data=val_ds, epochs=50)"
   ]
  },
  {
   "cell_type": "code",
   "execution_count": 103,
   "metadata": {},
   "outputs": [],
   "source": [
    " rootPath = './vision/'"
   ]
  },
  {
   "cell_type": "code",
   "execution_count": 104,
   "metadata": {},
   "outputs": [],
   "source": [
    " imageGenerator = ImageDataGenerator(\n",
    "    \n",
    "        width_shift_range=0.1,\n",
    "        height_shift_range=0.1,\n",
    "        shear_range=0.2,\n",
    "        zoom_range=0.1,\n",
    "        validation_split=.1,\n",
    "        horizontal_flip=True,\n",
    "        vertical_flip=True, \n",
    "        fill_mode='nearest')"
   ]
  },
  {
   "cell_type": "code",
   "execution_count": 105,
   "metadata": {},
   "outputs": [
    {
     "name": "stdout",
     "output_type": "stream",
     "text": [
      "Found 15 images belonging to 3 classes.\n"
     ]
    }
   ],
   "source": [
    "testGen = imageGenerator.flow_from_directory(\n",
    "    os.path.join(rootPath, 'test_set'),\n",
    "    target_size=(180, 180),\n",
    ")"
   ]
  },
  {
   "cell_type": "code",
   "execution_count": 106,
   "metadata": {},
   "outputs": [
    {
     "name": "stdout",
     "output_type": "stream",
     "text": [
      "WARNING:tensorflow:AutoGraph could not transform <function Model.make_predict_function.<locals>.predict_function at 0x00000267BD688950> and will run it as-is.\n",
      "Please report this to the TensorFlow team. When filing the bug, set the verbosity to 10 (on Linux, `export AUTOGRAPH_VERBOSITY=10`) and attach the full output.\n",
      "Cause: 'arguments' object has no attribute 'posonlyargs'\n",
      "To silence this warning, decorate the function with @tf.autograph.experimental.do_not_convert\n",
      "WARNING: AutoGraph could not transform <function Model.make_predict_function.<locals>.predict_function at 0x00000267BD688950> and will run it as-is.\n",
      "Please report this to the TensorFlow team. When filing the bug, set the verbosity to 10 (on Linux, `export AUTOGRAPH_VERBOSITY=10`) and attach the full output.\n",
      "Cause: 'arguments' object has no attribute 'posonlyargs'\n",
      "To silence this warning, decorate the function with @tf.autograph.experimental.do_not_convert\n",
      "WARNING:tensorflow:7 out of the last 7 calls to <function Model.make_predict_function.<locals>.predict_function at 0x00000267BD688950> triggered tf.function retracing. Tracing is expensive and the excessive number of tracings could be due to (1) creating @tf.function repeatedly in a loop, (2) passing tensors with different shapes, (3) passing Python objects instead of tensors. For (1), please define your @tf.function outside of the loop. For (2), @tf.function has experimental_relax_shapes=True option that relaxes argument shapes that can avoid unnecessary retracing. For (3), please refer to https://www.tensorflow.org/guide/function#controlling_retracing and https://www.tensorflow.org/api_docs/python/tf/function for  more details.\n",
      "                      Name  pred\n",
      "0   burn_disease\\burn1.png     0\n",
      "1   burn_disease\\burn2.png     0\n",
      "2   burn_disease\\burn3.png     0\n",
      "3   burn_disease\\burn4.png     0\n",
      "4   burn_disease\\burn5.png     1\n",
      "5         healthy\\hel1.jpg     2\n",
      "6         healthy\\hel2.jpg     0\n",
      "7         healthy\\hel3.jpg     2\n",
      "8         healthy\\hel4.jpg     2\n",
      "9         healthy\\hel5.jpg     2\n",
      "10  leafspot\\leafspot1.png     0\n",
      "11  leafspot\\leafspot2.png     2\n",
      "12  leafspot\\leafspot3.png     0\n",
      "13  leafspot\\leafspot4.png     0\n",
      "14  leafspot\\leafspot5.png     0\n"
     ]
    }
   ],
   "source": [
    "pred = model.predict(testGen)\n",
    "img_list = testGen.filenames\n",
    "pred_list = []\n",
    "for i in range(len(pred)):\n",
    "    pred_list.append(np.argmax(pred[i]))\n",
    "\n",
    "df = pd.DataFrame(list(zip(img_list, pred_list)), columns =['Name', 'pred'])\n",
    "print(df)\n",
    "\n",
    "df.to_csv('submission.csv', index=False)"
   ]
  },
  {
   "cell_type": "code",
   "execution_count": 107,
   "metadata": {},
   "outputs": [
    {
     "data": {
      "text/html": [
       "<div>\n",
       "<style scoped>\n",
       "    .dataframe tbody tr th:only-of-type {\n",
       "        vertical-align: middle;\n",
       "    }\n",
       "\n",
       "    .dataframe tbody tr th {\n",
       "        vertical-align: top;\n",
       "    }\n",
       "\n",
       "    .dataframe thead th {\n",
       "        text-align: right;\n",
       "    }\n",
       "</style>\n",
       "<table border=\"1\" class=\"dataframe\">\n",
       "  <thead>\n",
       "    <tr style=\"text-align: right;\">\n",
       "      <th></th>\n",
       "      <th>Name</th>\n",
       "      <th>pred</th>\n",
       "    </tr>\n",
       "  </thead>\n",
       "  <tbody>\n",
       "    <tr>\n",
       "      <th>0</th>\n",
       "      <td>burn_disease\\burn1.png</td>\n",
       "      <td>0</td>\n",
       "    </tr>\n",
       "    <tr>\n",
       "      <th>1</th>\n",
       "      <td>burn_disease\\burn2.png</td>\n",
       "      <td>0</td>\n",
       "    </tr>\n",
       "    <tr>\n",
       "      <th>2</th>\n",
       "      <td>burn_disease\\burn3.png</td>\n",
       "      <td>0</td>\n",
       "    </tr>\n",
       "    <tr>\n",
       "      <th>3</th>\n",
       "      <td>burn_disease\\burn4.png</td>\n",
       "      <td>0</td>\n",
       "    </tr>\n",
       "    <tr>\n",
       "      <th>4</th>\n",
       "      <td>burn_disease\\burn5.png</td>\n",
       "      <td>1</td>\n",
       "    </tr>\n",
       "    <tr>\n",
       "      <th>5</th>\n",
       "      <td>healthy\\hel1.jpg</td>\n",
       "      <td>2</td>\n",
       "    </tr>\n",
       "    <tr>\n",
       "      <th>6</th>\n",
       "      <td>healthy\\hel2.jpg</td>\n",
       "      <td>0</td>\n",
       "    </tr>\n",
       "    <tr>\n",
       "      <th>7</th>\n",
       "      <td>healthy\\hel3.jpg</td>\n",
       "      <td>2</td>\n",
       "    </tr>\n",
       "    <tr>\n",
       "      <th>8</th>\n",
       "      <td>healthy\\hel4.jpg</td>\n",
       "      <td>2</td>\n",
       "    </tr>\n",
       "    <tr>\n",
       "      <th>9</th>\n",
       "      <td>healthy\\hel5.jpg</td>\n",
       "      <td>2</td>\n",
       "    </tr>\n",
       "    <tr>\n",
       "      <th>10</th>\n",
       "      <td>leafspot\\leafspot1.png</td>\n",
       "      <td>0</td>\n",
       "    </tr>\n",
       "    <tr>\n",
       "      <th>11</th>\n",
       "      <td>leafspot\\leafspot2.png</td>\n",
       "      <td>2</td>\n",
       "    </tr>\n",
       "    <tr>\n",
       "      <th>12</th>\n",
       "      <td>leafspot\\leafspot3.png</td>\n",
       "      <td>0</td>\n",
       "    </tr>\n",
       "    <tr>\n",
       "      <th>13</th>\n",
       "      <td>leafspot\\leafspot4.png</td>\n",
       "      <td>0</td>\n",
       "    </tr>\n",
       "    <tr>\n",
       "      <th>14</th>\n",
       "      <td>leafspot\\leafspot5.png</td>\n",
       "      <td>0</td>\n",
       "    </tr>\n",
       "  </tbody>\n",
       "</table>\n",
       "</div>"
      ],
      "text/plain": [
       "                      Name  pred\n",
       "0   burn_disease\\burn1.png     0\n",
       "1   burn_disease\\burn2.png     0\n",
       "2   burn_disease\\burn3.png     0\n",
       "3   burn_disease\\burn4.png     0\n",
       "4   burn_disease\\burn5.png     1\n",
       "5         healthy\\hel1.jpg     2\n",
       "6         healthy\\hel2.jpg     0\n",
       "7         healthy\\hel3.jpg     2\n",
       "8         healthy\\hel4.jpg     2\n",
       "9         healthy\\hel5.jpg     2\n",
       "10  leafspot\\leafspot1.png     0\n",
       "11  leafspot\\leafspot2.png     2\n",
       "12  leafspot\\leafspot3.png     0\n",
       "13  leafspot\\leafspot4.png     0\n",
       "14  leafspot\\leafspot5.png     0"
      ]
     },
     "execution_count": 107,
     "metadata": {},
     "output_type": "execute_result"
    }
   ],
   "source": [
    "df"
   ]
  },
  {
   "cell_type": "code",
   "execution_count": null,
   "metadata": {},
   "outputs": [],
   "source": []
  }
 ],
 "metadata": {
  "interpreter": {
   "hash": "63a727f0a327a0aa3ed3f745e75b257e237ccc603937449839726ad1123db8cc"
  },
  "kernelspec": {
   "display_name": "Python 3.6.12 64-bit ('django': conda)",
   "name": "python3"
  },
  "language_info": {
   "name": "python",
   "version": ""
  }
 },
 "nbformat": 4,
 "nbformat_minor": 4
}